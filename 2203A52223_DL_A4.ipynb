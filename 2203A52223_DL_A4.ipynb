{
  "nbformat": 4,
  "nbformat_minor": 0,
  "metadata": {
    "colab": {
      "provenance": [],
      "authorship_tag": "ABX9TyPdD3QjcTIT+k0iT+LE7BsA",
      "include_colab_link": true
    },
    "kernelspec": {
      "name": "python3",
      "display_name": "Python 3"
    },
    "language_info": {
      "name": "python"
    }
  },
  "cells": [
    {
      "cell_type": "markdown",
      "metadata": {
        "id": "view-in-github",
        "colab_type": "text"
      },
      "source": [
        "<a href=\"https://colab.research.google.com/github/vinayreddy-arukala/2223_Deep_Learning/blob/main/2203A52223_DL_A4.ipynb\" target=\"_parent\"><img src=\"https://colab.research.google.com/assets/colab-badge.svg\" alt=\"Open In Colab\"/></a>"
      ]
    },
    {
      "cell_type": "code",
      "execution_count": null,
      "metadata": {
        "colab": {
          "base_uri": "https://localhost:8080/"
        },
        "id": "Q0m2YRrnP-KH",
        "outputId": "5781a193-95f2-4bf7-b6b9-a8a865e51413"
      },
      "outputs": [
        {
          "output_type": "stream",
          "name": "stdout",
          "text": [
            "Epoch 0, MSE: 1.147164\n",
            "Epoch 100, MSE: 0.053304\n",
            "Epoch 200, MSE: 0.005903\n",
            "Epoch 300, MSE: 0.003610\n",
            "Epoch 400, MSE: 0.003279\n",
            "Epoch 500, MSE: 0.003048\n",
            "Epoch 600, MSE: 0.002837\n",
            "Epoch 700, MSE: 0.002640\n",
            "Epoch 800, MSE: 0.002457\n",
            "Epoch 900, MSE: 0.002287\n",
            "Final Training MSE: 0.002129\n",
            "Final Testing MSE: 0.008448\n",
            "Enter x1: 0.5\n",
            "Enter x2: 0.7\n",
            "Enter x3: 0.1\n",
            "Predicted Output: 0.3027\n"
          ]
        }
      ],
      "source": [
        "import numpy as np\n",
        "\n",
        "# Training Data (Table 1)\n",
        "x_train = np.array([\n",
        "    [0.1, 0.2, 0.3],\n",
        "    [0.2, 0.3, 0.4],\n",
        "    [0.3, 0.4, 0.5],\n",
        "    [0.5, 0.6, 0.7],\n",
        "    [0.1, 0.3, 0.5],\n",
        "    [0.2, 0.4, 0.6],\n",
        "    [0.3, 0.5, 0.7],\n",
        "    [0.4, 0.6, 0.8],\n",
        "    [0.5, 0.7, 0.1]\n",
        "])\n",
        "y_train = np.array([0.14, 0.20, 0.26, 0.38, 0.22, 0.28, 0.34, 0.40, 0.22])\n",
        "\n",
        "# Testing Data (Table 2)\n",
        "x_test = np.array([\n",
        "    [0.6, 0.7, 0.8],\n",
        "    [0.7, 0.8, 0.9]\n",
        "])\n",
        "y_test = np.array([0.44, 0.50])\n",
        "\n",
        "# Initialize weights and bias\n",
        "np.random.seed(0)\n",
        "w = np.random.rand(3)\n",
        "b = np.random.rand()\n",
        "\n",
        "# Hyperparameters\n",
        "learning_rate = 0.01\n",
        "epochs = 1000\n",
        "\n",
        "# Training the ANN using Gradient Descent\n",
        "for epoch in range(epochs):\n",
        "    y_pred = np.dot(x_train, w) + b\n",
        "    error = y_pred - y_train\n",
        "\n",
        "    # Compute gradients\n",
        "    dw = np.dot(x_train.T, error) / len(x_train)\n",
        "    db = np.mean(error)\n",
        "\n",
        "    # Update weights and bias\n",
        "    w -= learning_rate * dw\n",
        "    b -= learning_rate * db\n",
        "\n",
        "    # Print loss every 100 epochs\n",
        "    if epoch % 100 == 0:\n",
        "        mse = np.mean(error**2)\n",
        "        print(f\"Epoch {epoch}, MSE: {mse:.6f}\")\n",
        "\n",
        "# Calculate Mean Squared Error (MSE) for training and testing\n",
        "train_mse = np.mean((np.dot(x_train, w) + b - y_train) ** 2)\n",
        "test_mse = np.mean((np.dot(x_test, w) + b - y_test) ** 2)\n",
        "print(f\"Final Training MSE: {train_mse:.6f}\")\n",
        "print(f\"Final Testing MSE: {test_mse:.6f}\")\n",
        "\n",
        "# User Input for Prediction\n",
        "x_input = np.array([float(input(\"Enter x1: \")), float(input(\"Enter x2: \")), float(input(\"Enter x3: \"))])\n",
        "y_output = np.dot(x_input, w) + b\n",
        "print(f\"Predicted Output: {y_output:.4f}\")\n"
      ]
    },
    {
      "cell_type": "code",
      "source": [
        "import numpy as np\n",
        "\n",
        "# Training Data (Table 1)\n",
        "x_train = np.array([\n",
        "    [0.1, 0.2, 0.3],\n",
        "    [0.2, 0.3, 0.4],\n",
        "    [0.3, 0.4, 0.5],\n",
        "    [0.5, 0.6, 0.7],\n",
        "    [0.1, 0.3, 0.5],\n",
        "    [0.2, 0.4, 0.6],\n",
        "    [0.3, 0.5, 0.7],\n",
        "    [0.4, 0.6, 0.8],\n",
        "    [0.5, 0.7, 0.1]\n",
        "])\n",
        "y_train = np.array([0.14, 0.20, 0.26, 0.38, 0.22, 0.28, 0.34, 0.40, 0.22])\n",
        "\n",
        "# Testing Data (Table 2)\n",
        "x_test = np.array([\n",
        "    [0.6, 0.7, 0.8],\n",
        "    [0.7, 0.8, 0.9]\n",
        "])\n",
        "y_test = np.array([0.44, 0.50])\n",
        "\n",
        "# Initialize weights and bias\n",
        "np.random.seed(0)\n",
        "w = np.random.rand(3)\n",
        "b = np.random.rand()\n",
        "\n",
        "# Hyperparameters\n",
        "learning_rate = 0.01\n",
        "epochs = 1000\n",
        "\n",
        "# Training using Stochastic Gradient Descent (SGD)\n",
        "for epoch in range(epochs):\n",
        "    for i in range(len(x_train)):  # Process one sample at a time\n",
        "        xi = x_train[i]\n",
        "        yi = y_train[i]\n",
        "\n",
        "        y_pred = np.dot(xi, w) + b  # Forward pass\n",
        "        error = y_pred - yi  # Compute error\n",
        "\n",
        "        # Compute gradients\n",
        "        dw = xi * error\n",
        "        db = error\n",
        "\n",
        "        # Update weights and bias\n",
        "        w -= learning_rate * dw\n",
        "        b -= learning_rate * db\n",
        "\n",
        "    # Print loss every 100 epochs\n",
        "    if epoch % 100 == 0:\n",
        "        mse = np.mean((np.dot(x_train, w) + b - y_train) ** 2)\n",
        "        print(f\"Epoch {epoch}, MSE: {mse:.6f}\")\n",
        "\n",
        "# Calculate Mean Squared Error (MSE) for training and testing\n",
        "train_mse = np.mean((np.dot(x_train, w) + b - y_train) ** 2)\n",
        "test_mse = np.mean((np.dot(x_test, w) + b - y_test) ** 2)\n",
        "print(f\"Final Training MSE: {train_mse:.6f}\")\n",
        "print(f\"Final Testing MSE: {test_mse:.6f}\")\n",
        "\n",
        "# User Input for Prediction\n",
        "x_input = np.array([float(input(\"Enter x1: \")), float(input(\"Enter x2: \")), float(input(\"Enter x3: \"))])\n",
        "y_output = np.dot(x_input, w) + b\n",
        "print(f\"Predicted Output: {y_output:.4f}\")\n"
      ],
      "metadata": {
        "id": "UVSpPpDZRlA7",
        "outputId": "a18e34bd-3344-4928-af87-561e8762cb6e",
        "colab": {
          "base_uri": "https://localhost:8080/"
        }
      },
      "execution_count": 2,
      "outputs": [
        {
          "output_type": "stream",
          "name": "stdout",
          "text": [
            "Epoch 0, MSE: 0.864853\n",
            "Epoch 100, MSE: 0.002305\n",
            "Epoch 200, MSE: 0.001205\n",
            "Epoch 300, MSE: 0.000631\n",
            "Epoch 400, MSE: 0.000332\n",
            "Epoch 500, MSE: 0.000175\n",
            "Epoch 600, MSE: 0.000093\n",
            "Epoch 700, MSE: 0.000049\n",
            "Epoch 800, MSE: 0.000026\n",
            "Epoch 900, MSE: 0.000014\n",
            "Final Training MSE: 0.000008\n",
            "Final Testing MSE: 0.000058\n",
            "Enter x1: 0.6\n",
            "Enter x2: 0.7\n",
            "Enter x3: 0.8\n",
            "Predicted Output: 0.4465\n"
          ]
        }
      ]
    },
    {
      "cell_type": "code",
      "source": [],
      "metadata": {
        "id": "L0pXXgU_XxLD"
      },
      "execution_count": null,
      "outputs": []
    }
  ]
}
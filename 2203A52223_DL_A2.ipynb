{
  "nbformat": 4,
  "nbformat_minor": 0,
  "metadata": {
    "colab": {
      "provenance": [],
      "authorship_tag": "ABX9TyO2QfIcKRPx1aqYV17qz6Uf",
      "include_colab_link": true
    },
    "kernelspec": {
      "name": "python3",
      "display_name": "Python 3"
    },
    "language_info": {
      "name": "python"
    }
  },
  "cells": [
    {
      "cell_type": "markdown",
      "metadata": {
        "id": "view-in-github",
        "colab_type": "text"
      },
      "source": [
        "<a href=\"https://colab.research.google.com/github/vinayreddy-arukala/2223_Deep_Learning/blob/main/2203A52223_DL_A2.ipynb\" target=\"_parent\"><img src=\"https://colab.research.google.com/assets/colab-badge.svg\" alt=\"Open In Colab\"/></a>"
      ]
    },
    {
      "cell_type": "code",
      "execution_count": 4,
      "metadata": {
        "colab": {
          "base_uri": "https://localhost:8080/"
        },
        "id": "7wMvbchNN0q7",
        "outputId": "db1c75e0-983f-4d27-db3d-00e3b2dfca79"
      },
      "outputs": [
        {
          "output_type": "stream",
          "name": "stdout",
          "text": [
            "no. of A chocolates=2.00\n",
            "no. of B chocolates=3.00\n",
            "Maximum profit=27.00\n"
          ]
        }
      ],
      "source": [
        "from scipy.optimize import linprog\n",
        "import numpy as np\n",
        "\n",
        "obj = [-6, -5]\n",
        "A = [[1, 1], [3, 2]]\n",
        "b = [5, 12]\n",
        "bnd = [(0, float(\"inf\")), (0, float(\"inf\"))]\n",
        "\n",
        "opt = linprog(c=obj, A_ub=A, b_ub=b, bounds=bnd)\n",
        "chaco = np.round(opt.x)\n",
        "\n",
        "print(\"no. of A chocolates=%0.2f\" % chaco[0])\n",
        "print(\"no. of B chocolates=%0.2f\" % chaco[1])\n",
        "print(\"Maximum profit=%0.2f\" % abs(opt.fun))"
      ]
    },
    {
      "cell_type": "code",
      "source": [
        "from scipy.optimize import linprog\n",
        "obj = [-50, -120]\n",
        "A = [\n",
        "    [1, 1],\n",
        "    [7000, 2000],\n",
        "    [10, 30]\n",
        "]\n",
        "b = [100, 700000, 1200]\n",
        "\n",
        "bounds = [(0, None), (0, None)]\n",
        "result = linprog(c=obj, A_ub=A, b_ub=b, bounds=bounds, method=\"highs\")\n",
        "if result.success:\n",
        "    x1, x2 = result.x\n",
        "    print(f\"Hectares of wheat: {x1:.2f}\")\n",
        "    print(f\"Hectares of barley: {x2:.2f}\")\n",
        "    print(f\"Maximum profit: Rs. {abs(result.fun):.2f}\")\n",
        "else:\n",
        "    print(\"No solution found.\")"
      ],
      "metadata": {
        "colab": {
          "base_uri": "https://localhost:8080/"
        },
        "id": "8ReR1e2wOHmz",
        "outputId": "4f8b1ec0-4054-485c-84fa-94423d709600"
      },
      "execution_count": 5,
      "outputs": [
        {
          "output_type": "stream",
          "name": "stdout",
          "text": [
            "Hectares of wheat: 90.00\n",
            "Hectares of barley: 10.00\n",
            "Maximum profit: Rs. 5700.00\n"
          ]
        }
      ]
    },
    {
      "cell_type": "code",
      "source": [],
      "metadata": {
        "id": "Z9OGzDaUOJvQ"
      },
      "execution_count": null,
      "outputs": []
    }
  ]
}
{
  "nbformat": 4,
  "nbformat_minor": 0,
  "metadata": {
    "colab": {
      "provenance": [],
      "authorship_tag": "ABX9TyMp0aNpQNXwbOd9knkNXzSl",
      "include_colab_link": true
    },
    "kernelspec": {
      "name": "python3",
      "display_name": "Python 3"
    },
    "language_info": {
      "name": "python"
    }
  },
  "cells": [
    {
      "cell_type": "markdown",
      "metadata": {
        "id": "view-in-github",
        "colab_type": "text"
      },
      "source": [
        "<a href=\"https://colab.research.google.com/github/vinayreddy-arukala/2223_Deep_Learning/blob/main/2203A52223_DL_A5.ipynb\" target=\"_parent\"><img src=\"https://colab.research.google.com/assets/colab-badge.svg\" alt=\"Open In Colab\"/></a>"
      ]
    },
    {
      "cell_type": "code",
      "execution_count": 3,
      "metadata": {
        "colab": {
          "base_uri": "https://localhost:8080/"
        },
        "id": "DwJ3U8ZVTa91",
        "outputId": "e673aa67-c71c-468b-b985-19c0ee46b2cf"
      },
      "outputs": [
        {
          "output_type": "stream",
          "name": "stdout",
          "text": [
            "MSE (Training Data): 2.292915733099337e-06\n",
            "MSE (Testing Data): 8.10699029066769e-06\n",
            "Enter x1, x2, x3: 0.5 0.7 0.1\n",
            "Predicted Output: 0.555994246282593\n"
          ]
        }
      ],
      "source": [
        "import numpy as np\n",
        "\n",
        "def sigmoid(x):\n",
        "    return 1 / (1 + np.exp(-x))\n",
        "\n",
        "def sigmoid_derivative(x):\n",
        "    return x * (1 - x)\n",
        "\n",
        "def train_ann(X, y, learning_rate=0.1, epochs=1000):\n",
        "    np.random.seed(42)\n",
        "    weights = np.random.rand(X.shape[1])\n",
        "    bias = np.random.rand()\n",
        "\n",
        "    for epoch in range(epochs):\n",
        "        weighted_sum = np.dot(X, weights) + bias\n",
        "        output = sigmoid(weighted_sum)\n",
        "        error = y - output\n",
        "        d_output = error * sigmoid_derivative(output)\n",
        "        weights += learning_rate * np.dot(X.T, d_output)\n",
        "        bias += learning_rate * np.sum(d_output)\n",
        "\n",
        "    return weights, bias\n",
        "\n",
        "def predict(X, weights, bias):\n",
        "    return sigmoid(np.dot(X, weights) + bias)\n",
        "\n",
        "def mean_squared_error(y_true, y_pred):\n",
        "    return np.mean((y_true - y_pred) ** 2)\n",
        "\n",
        "\n",
        "X_train = np.array([\n",
        "    [0.1, 0.2, 0.3],\n",
        "    [0.2, 0.3, 0.4],\n",
        "    [0.3, 0.4, 0.5],\n",
        "    [0.5, 0.6, 0.7],\n",
        "    [0.1, 0.3, 0.5],\n",
        "    [0.2, 0.4, 0.6],\n",
        "    [0.3, 0.5, 0.7],\n",
        "    [0.4, 0.6, 0.8],\n",
        "    [0.5, 0.7, 0.1]\n",
        "])\n",
        "y_train = np.array([0.5349, 0.5498, 0.5646, 0.5939, 0.5548, 0.5695, 0.5842, 0.5987, 0.5548])\n",
        "\n",
        "# Train model\n",
        "weights, bias = train_ann(X_train, y_train, learning_rate=0.1, epochs=5000)\n",
        "\n",
        "# Test Data\n",
        "X_test = np.array([\n",
        "    [0.6, 0.7, 0.8],\n",
        "    [0.7, 0.8, 0.9]\n",
        "])\n",
        "y_test = np.array([0.6083, 0.6225])\n",
        "\n",
        "y_train_pred = predict(X_train, weights, bias)\n",
        "y_test_pred = predict(X_test, weights, bias)\n",
        "\n",
        "print(\"MSE (Training Data):\", mean_squared_error(y_train, y_train_pred))\n",
        "print(\"MSE (Testing Data):\", mean_squared_error(y_test, y_test_pred))\n",
        "\n",
        "# User input prediction\n",
        "x_input = np.array(list(map(float, input(\"Enter x1, x2, x3: \").split())))\n",
        "print(\"Predicted Output:\", predict(x_input, weights, bias))\n",
        "\n"
      ]
    },
    {
      "cell_type": "code",
      "source": [],
      "metadata": {
        "id": "6_IK7hCUWv4P"
      },
      "execution_count": null,
      "outputs": []
    }
  ]
}
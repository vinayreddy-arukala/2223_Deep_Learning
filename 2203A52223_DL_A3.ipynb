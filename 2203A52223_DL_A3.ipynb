{
  "nbformat": 4,
  "nbformat_minor": 0,
  "metadata": {
    "colab": {
      "provenance": [],
      "authorship_tag": "ABX9TyMsIGISN3vlcxjl7pcvCo6F",
      "include_colab_link": true
    },
    "kernelspec": {
      "name": "python3",
      "display_name": "Python 3"
    },
    "language_info": {
      "name": "python"
    }
  },
  "cells": [
    {
      "cell_type": "markdown",
      "metadata": {
        "id": "view-in-github",
        "colab_type": "text"
      },
      "source": [
        "<a href=\"https://colab.research.google.com/github/vinayreddy-arukala/2223_Deep_Learning/blob/main/2203A52223_DL_A3.ipynb\" target=\"_parent\"><img src=\"https://colab.research.google.com/assets/colab-badge.svg\" alt=\"Open In Colab\"/></a>"
      ]
    },
    {
      "cell_type": "code",
      "execution_count": 4,
      "metadata": {
        "colab": {
          "base_uri": "https://localhost:8080/"
        },
        "id": "lkGWbOjLl0D3",
        "outputId": "23c1593d-6f4d-4912-c2f1-26bff291f50d"
      },
      "outputs": [
        {
          "output_type": "stream",
          "name": "stdout",
          "text": [
            "Minimum value of f(x) is approximately 10.000000082641069 at x = 0.00016597295577140502 after 1280 iterations.\n"
          ]
        }
      ],
      "source": [
        "import random\n",
        "\n",
        "def f(x):\n",
        "    return 5 * x**4 + 3 * x**2 + 10  # Corrected the power operator\n",
        "\n",
        "def f_prime(x):\n",
        "    return 20 * x**3 + 6 * x\n",
        "\n",
        "def gradient_descent_without_libs(initial_x, learning_rate, tolerance, max_iterations):\n",
        "    x = initial_x\n",
        "    iteration = 0\n",
        "    while iteration < max_iterations:\n",
        "        grad = f_prime(x)\n",
        "        new_x = x - learning_rate * grad\n",
        "        if abs(new_x - x) < tolerance:\n",
        "            break\n",
        "        x = new_x\n",
        "        iteration += 1\n",
        "    return x, f(x), iteration\n",
        "\n",
        "initial_x = random.uniform(-1, 1)  # Reduced the range for initial_x\n",
        "learning_rate = 0.001  # Reduced the learning rate significantly\n",
        "tolerance = 1e-6\n",
        "max_iterations = 10000\n",
        "\n",
        "min_x, min_f, iterations = gradient_descent_without_libs(initial_x, learning_rate, tolerance, max_iterations)\n",
        "print(f\"Minimum value of f(x) is approximately {min_f} at x = {min_x} after {iterations} iterations.\")"
      ]
    },
    {
      "cell_type": "code",
      "source": [
        "def g(x, y):\n",
        "    return 3 * x*2 + 5 * (2.71828*(-y)) + 10\n",
        "def g_prime_x(x, y):\n",
        "    return 6 * x\n",
        "def g_prime_y(x, y):\n",
        "    return -5 * (2.71828**(-y))\n",
        "def gradient_descent_without_libs(initial_x, initial_y, learning_rate, tolerance, max_iterations):\n",
        "    x, y = initial_x, initial_y\n",
        "    iteration = 0\n",
        "    while iteration < max_iterations:\n",
        "        grad_x = g_prime_x(x, y)\n",
        "        grad_y = g_prime_y(x, y)\n",
        "        new_x = x - learning_rate * grad_x\n",
        "        new_y = y - learning_rate * grad_y\n",
        "        if abs(new_x - x) < tolerance and abs(new_y - y) < tolerance:\n",
        "            break\n",
        "        x, y = new_x, new_y\n",
        "        iteration += 1\n",
        "    return x, y, g(x, y), iteration\n",
        "initial_x = random.uniform(-10,10)\n",
        "initial_y = random.uniform(-10,10)\n",
        "learning_rate = 0.01\n",
        "tolerance = 1e-6\n",
        "max_iterations = 10000\n",
        "min_x, min_y, min_g, iterations = gradient_descent_without_libs(initial_x, initial_y, learning_rate, tolerance, max_iterations)\n",
        "print(f\"Minimum value of g(x, y) is approximately {min_g} at x = {min_x}, y = {min_y} after {iterations} iterations.\")"
      ],
      "metadata": {
        "colab": {
          "base_uri": "https://localhost:8080/"
        },
        "id": "hsvA29TBl-9K",
        "outputId": "fb0ff666-5410-4c06-cd4e-b9a97c09a785"
      },
      "execution_count": 5,
      "outputs": [
        {
          "output_type": "stream",
          "name": "stdout",
          "text": [
            "Minimum value of g(x, y) is approximately -78.56042636476424 at x = 1.73874008016833e-268, y = 6.5159164151422395 after 10000 iterations.\n"
          ]
        }
      ]
    },
    {
      "cell_type": "code",
      "source": [
        "def z(x):\n",
        "    return 1 / (1 + 2.71828**(-x))\n",
        "def z_prime(x):\n",
        "    sigmoid = z(x)\n",
        "    return sigmoid * (1 - sigmoid)\n",
        "def gradient_descent_without_libs(initial_x, learning_rate, tolerance, max_iterations):\n",
        "    x = initial_x\n",
        "    iteration = 0\n",
        "    while iteration < max_iterations:\n",
        "        grad = z_prime(x)\n",
        "        new_x = x - learning_rate * grad\n",
        "        if abs(new_x - x) < tolerance:\n",
        "            break\n",
        "        x = new_x\n",
        "        iteration += 1\n",
        "    return x, z_prime(x), iteration\n",
        "initial_x = random.uniform(-10,10)\n",
        "learning_rate = 0.01\n",
        "tolerance = 1e-6\n",
        "max_iterations = 10000\n",
        "min_x, min_z_prime, iterations = gradient_descent_without_libs(initial_x, learning_rate, tolerance, max_iterations)\n",
        "print(f\"Minimum value of z'(x) is approximately {min_z_prime} at x = {min_x} after {iterations} iterations.\")"
      ],
      "metadata": {
        "colab": {
          "base_uri": "https://localhost:8080/"
        },
        "id": "UJykC6iJmDFz",
        "outputId": "5afa4878-a05a-444d-cf25-f9e9f257d862"
      },
      "execution_count": 6,
      "outputs": [
        {
          "output_type": "stream",
          "name": "stdout",
          "text": [
            "Minimum value of z'(x) is approximately 0.0015482785795049908 at x = -6.467512135971793 after 10000 iterations.\n"
          ]
        }
      ]
    },
    {
      "cell_type": "code",
      "source": [
        "import numpy as np\n",
        "def g(x, y):\n",
        "    return 3 * x**2 + 5 * np.exp(-y) + 10\n",
        "def g_prime_x(x, y):\n",
        "    return 6 * x\n",
        "def g_prime_y(x, y):\n",
        "    return -5 * np.exp(-y)\n",
        "def gradient_descent_with_libs(initial_x, initial_y, learning_rate, tolerance, max_iterations):\n",
        "    x, y = initial_x, initial_y\n",
        "    for iteration in range(max_iterations):\n",
        "        grad_x = g_prime_x(x, y)\n",
        "        grad_y = g_prime_y(x, y)\n",
        "        new_x = x - learning_rate * grad_x\n",
        "        new_y = y - learning_rate * grad_y\n",
        "        if np.abs(new_x - x) < tolerance and np.abs(new_y - y) < tolerance:\n",
        "            break\n",
        "        x, y = new_x, new_y\n",
        "    return x, y, g(x, y), iteration + 1\n",
        "initial_x = random.uniform(-10,10)\n",
        "initial_y = random.uniform(-10,10)\n",
        "learning_rate = 0.01\n",
        "tolerance = 1e-6\n",
        "max_iterations = 10000\n",
        "min_x, min_y, min_g, iterations = gradient_descent_with_libs(initial_x, initial_y, learning_rate, tolerance, max_iterations)\n",
        "print(f\"Minimum value of g(x, y) is approximately {min_g} at x = {min_x}, y = {min_y} after {iterations} iterations.\")"
      ],
      "metadata": {
        "colab": {
          "base_uri": "https://localhost:8080/"
        },
        "id": "SNNs0Jjgmbv7",
        "outputId": "c04c1d6b-2c86-4ce1-f799-96d0729e68c5"
      },
      "execution_count": 7,
      "outputs": [
        {
          "output_type": "stream",
          "name": "stdout",
          "text": [
            "Minimum value of g(x, y) is approximately 10.00421910242569 at x = 1.0565405270642467e-268, y = 7.077570781325418 after 10000 iterations.\n"
          ]
        }
      ]
    },
    {
      "cell_type": "code",
      "source": [
        "import random\n",
        "M = random.uniform(-10, 10)\n",
        "C = random.uniform(-10, 10)\n",
        "x = 2\n",
        "y = 0.5\n",
        "alpha = 0.1\n",
        "\n",
        "for i in range(100):\n",
        "    y_p = M * x + C\n",
        "\n",
        "    dM = -2 * x * (y - y_p)\n",
        "    dC = -2 * (y - y_p)\n",
        "\n",
        "     # Update parameters\n",
        "    M = M - alpha * dM\n",
        "    C = C - alpha * dC\n",
        "\n",
        "print(f\"M: {M}\")\n",
        "print(f\"C: {C}\")\n",
        "\n"
      ],
      "metadata": {
        "colab": {
          "base_uri": "https://localhost:8080/"
        },
        "id": "ayqk6d7UmdgT",
        "outputId": "3c4fbceb-6bee-4746-a97e-7dacf886edac"
      },
      "execution_count": 8,
      "outputs": [
        {
          "output_type": "stream",
          "name": "stdout",
          "text": [
            "M: -2.6631990584863114\n",
            "C: 5.826398116972623\n"
          ]
        }
      ]
    },
    {
      "cell_type": "code",
      "source": [],
      "metadata": {
        "id": "DKAxWya-mfUm"
      },
      "execution_count": null,
      "outputs": []
    }
  ]
}